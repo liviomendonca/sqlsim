{
 "cells": [
  {
   "cell_type": "code",
   "execution_count": 1,
   "metadata": {},
   "outputs": [],
   "source": [
    "import pandas as pd\n",
    "import plotly.express as px\n",
    "\n",
    "\n",
    "# Upload the data file\n",
    "# f = 'data/spatial_raio_3.csv' # single dim, spatial\n",
    "# f = 'data/metric_sim_radius1_texture1_perimeter1_80.csv' # single dim, metric\n",
    "# f = 'data/two_dimensions.csv' # 2-dimensional\n",
    "f = 'data/three_dimensions.csv' # 3-dimensional\n",
    "# f = 'data/two_dimensions_FV2.csv' # 2-dimensional, new Feature Vector\n",
    "\n",
    "df = pd.read_csv(f)\n",
    "df.dropna(inplace=True)\n",
    "\n",
    "df = df.astype(int)\n",
    "\n",
    "month_dict = {\n",
    "    1: 'Jan',\n",
    "    2: 'Feb',\n",
    "    3: 'Mar',\n",
    "    4: 'Apr',\n",
    "    5: 'May',\n",
    "    6: 'Jun',\n",
    "}\n",
    "\n",
    "for column in df.columns:\n",
    "    if column == 'spatial':\n",
    "        df[column] = 'Region ' + df[column].astype(str)\n",
    "    if column == 'temporal':\n",
    "        df[column] = df[column].map(month_dict)\n",
    "    if column == 'metric':\n",
    "        df[column] = 'Cluster ' + df[column].astype(str)\n",
    "    \n"
   ]
  },
  {
   "cell_type": "code",
   "execution_count": 2,
   "metadata": {},
   "outputs": [
    {
     "data": {
      "text/html": [
       "<div>\n",
       "<style scoped>\n",
       "    .dataframe tbody tr th:only-of-type {\n",
       "        vertical-align: middle;\n",
       "    }\n",
       "\n",
       "    .dataframe tbody tr th {\n",
       "        vertical-align: top;\n",
       "    }\n",
       "\n",
       "    .dataframe thead th {\n",
       "        text-align: right;\n",
       "    }\n",
       "</style>\n",
       "<table border=\"1\" class=\"dataframe\">\n",
       "  <thead>\n",
       "    <tr style=\"text-align: right;\">\n",
       "      <th></th>\n",
       "      <th>spatial</th>\n",
       "      <th>temporal</th>\n",
       "      <th>metric</th>\n",
       "      <th>count</th>\n",
       "    </tr>\n",
       "  </thead>\n",
       "  <tbody>\n",
       "    <tr>\n",
       "      <th>0</th>\n",
       "      <td>Region 1</td>\n",
       "      <td>Jan</td>\n",
       "      <td>Cluster 1</td>\n",
       "      <td>11</td>\n",
       "    </tr>\n",
       "    <tr>\n",
       "      <th>1</th>\n",
       "      <td>Region 1</td>\n",
       "      <td>Jan</td>\n",
       "      <td>Cluster 2</td>\n",
       "      <td>11</td>\n",
       "    </tr>\n",
       "    <tr>\n",
       "      <th>2</th>\n",
       "      <td>Region 1</td>\n",
       "      <td>Jan</td>\n",
       "      <td>Cluster 3</td>\n",
       "      <td>4</td>\n",
       "    </tr>\n",
       "    <tr>\n",
       "      <th>3</th>\n",
       "      <td>Region 1</td>\n",
       "      <td>Jan</td>\n",
       "      <td>Cluster 4</td>\n",
       "      <td>2</td>\n",
       "    </tr>\n",
       "    <tr>\n",
       "      <th>4</th>\n",
       "      <td>Region 1</td>\n",
       "      <td>Jan</td>\n",
       "      <td>Cluster 5</td>\n",
       "      <td>1</td>\n",
       "    </tr>\n",
       "  </tbody>\n",
       "</table>\n",
       "</div>"
      ],
      "text/plain": [
       "    spatial temporal     metric  count\n",
       "0  Region 1      Jan  Cluster 1     11\n",
       "1  Region 1      Jan  Cluster 2     11\n",
       "2  Region 1      Jan  Cluster 3      4\n",
       "3  Region 1      Jan  Cluster 4      2\n",
       "4  Region 1      Jan  Cluster 5      1"
      ]
     },
     "execution_count": 2,
     "metadata": {},
     "output_type": "execute_result"
    }
   ],
   "source": [
    "df.head()"
   ]
  },
  {
   "cell_type": "code",
   "execution_count": 3,
   "metadata": {},
   "outputs": [],
   "source": [
    "ndims = df.shape[1] - 1\n",
    "dims = df.columns[:-1].tolist()"
   ]
  },
  {
   "cell_type": "code",
   "execution_count": 4,
   "metadata": {},
   "outputs": [
    {
     "data": {
      "text/plain": [
       "(['spatial', 'temporal', 'metric'], 3)"
      ]
     },
     "execution_count": 4,
     "metadata": {},
     "output_type": "execute_result"
    }
   ],
   "source": [
    "dims, ndims"
   ]
  },
  {
   "cell_type": "code",
   "execution_count": 6,
   "metadata": {},
   "outputs": [
    {
     "data": {
      "application/vnd.plotly.v1+json": {
       "config": {
        "plotlyServerURL": "https://plot.ly"
       },
       "data": [
        {
         "branchvalues": "total",
         "customdata": [
          [
           6
          ],
          [
           11
          ],
          [
           10
          ],
          [
           7
          ],
          [
           2
          ],
          [
           11
          ],
          [
           5
          ],
          [
           5
          ],
          [
           15
          ],
          [
           8
          ],
          [
           11
          ],
          [
           9
          ],
          [
           3
          ],
          [
           7
          ],
          [
           2
          ],
          [
           15
          ],
          [
           8
          ],
          [
           7
          ],
          [
           9
          ],
          [
           6
          ],
          [
           17
          ],
          [
           6
          ],
          [
           8
          ],
          [
           5
          ],
          [
           6
          ],
          [
           12
          ],
          [
           13
          ],
          [
           3
          ],
          [
           8
          ],
          [
           11
          ],
          [
           3
          ],
          [
           4
          ],
          [
           5
          ],
          [
           4
          ],
          [
           4
          ],
          [
           6
          ],
          [
           5
          ],
          [
           6
          ],
          [
           10
          ],
          [
           11
          ],
          [
           8
          ],
          [
           1
          ],
          [
           3
          ],
          [
           2
          ],
          [
           6
          ],
          [
           1
          ],
          [
           7
          ],
          [
           6
          ],
          [
           6
          ],
          [
           8
          ],
          [
           6
          ],
          [
           3
          ],
          [
           5
          ],
          [
           2
          ],
          [
           10
          ],
          [
           7
          ],
          [
           2
          ],
          [
           8
          ],
          [
           5
          ],
          [
           5
          ],
          [
           4
          ],
          [
           4
          ],
          [
           2
          ],
          [
           6
          ],
          [
           3
          ],
          [
           2
          ],
          [
           5
          ],
          [
           5
          ],
          [
           4
          ],
          [
           2
          ],
          [
           4
          ],
          [
           5
          ],
          [
           2
          ],
          [
           5
          ],
          [
           4
          ],
          [
           1
          ],
          [
           4
          ],
          [
           1
          ],
          [
           10
          ],
          [
           3
          ],
          [
           3
          ],
          [
           5
          ],
          [
           2
          ],
          [
           3
          ],
          [
           4
          ],
          [
           4
          ],
          [
           1
          ],
          [
           1
          ],
          [
           1
          ],
          [
           3
          ],
          [
           1
          ],
          [
           4
          ],
          [
           1
          ],
          [
           1
          ],
          [
           1
          ],
          [
           2
          ],
          [
           2
          ],
          [
           2
          ],
          [
           1
          ],
          [
           4
          ],
          [
           3
          ],
          [
           1
          ],
          [
           4
          ],
          [
           1
          ],
          [
           2
          ],
          [
           2
          ],
          [
           1
          ],
          [
           2
          ],
          [
           1
          ],
          [
           2
          ],
          [
           3
          ],
          [
           2
          ],
          [
           2
          ],
          [
           1
          ],
          [
           1
          ],
          [
           1
          ],
          [
           2
          ],
          [
           1
          ],
          [
           1
          ],
          [
           1
          ],
          [
           1
          ],
          [
           2
          ],
          [
           1
          ],
          [
           3
          ],
          [
           1
          ],
          [
           4.411764705882353
          ],
          [
           6.916666666666667
          ],
          [
           7.1
          ],
          [
           5.3076923076923075
          ],
          [
           2.75
          ],
          [
           7.7407407407407405
          ],
          [
           4.285714285714286
          ],
          [
           3.75
          ],
          [
           10.62962962962963
          ],
          [
           8.217391304347826
          ],
          [
           9.068965517241379
          ],
          [
           7.285714285714286
          ],
          [
           3
          ],
          [
           5.117647058823529
          ],
          [
           1.75
          ],
          [
           10.066666666666666
          ],
          [
           6.230769230769231
          ],
          [
           6
          ],
          [
           6.428571428571429
          ],
          [
           5.615384615384615
          ],
          [
           12.025641025641026
          ],
          [
           5.4
          ],
          [
           5.533333333333333
          ],
          [
           4.444444444444445
          ],
          [
           3.769230769230769
          ],
          [
           9.214285714285714
          ],
          [
           8.851851851851851
          ],
          [
           3
          ],
          [
           6.454545454545454
          ],
          [
           7.476190476190476
          ],
          [
           9.270588235294118
          ],
          [
           6.842105263157895
          ],
          [
           5.222222222222222
          ],
          [
           6.779661016949152
          ],
          [
           5.8604651162790695
          ],
          [
           7.175746924428823
          ]
         ],
         "domain": {
          "x": [
           0,
           1
          ],
          "y": [
           0,
           1
          ]
         },
         "hovertemplate": "labels=%{label}<br>count_sum=%{value}<br>parent=%{parent}<br>id=%{id}<br>count=%{color}<extra></extra>",
         "ids": [
          "3D Cube (FV 1)/Region 1/Apr/Cluster 1",
          "3D Cube (FV 1)/Region 2/Apr/Cluster 1",
          "3D Cube (FV 1)/Region 3/Apr/Cluster 1",
          "3D Cube (FV 1)/Region 4/Apr/Cluster 1",
          "3D Cube (FV 1)/Region 5/Apr/Cluster 1",
          "3D Cube (FV 1)/Region 1/Feb/Cluster 1",
          "3D Cube (FV 1)/Region 2/Feb/Cluster 1",
          "3D Cube (FV 1)/Region 3/Feb/Cluster 1",
          "3D Cube (FV 1)/Region 4/Feb/Cluster 1",
          "3D Cube (FV 1)/Region 5/Feb/Cluster 1",
          "3D Cube (FV 1)/Region 1/Jan/Cluster 1",
          "3D Cube (FV 1)/Region 2/Jan/Cluster 1",
          "3D Cube (FV 1)/Region 3/Jan/Cluster 1",
          "3D Cube (FV 1)/Region 4/Jan/Cluster 1",
          "3D Cube (FV 1)/Region 5/Jan/Cluster 1",
          "3D Cube (FV 1)/Region 1/Jun/Cluster 1",
          "3D Cube (FV 1)/Region 2/Jun/Cluster 1",
          "3D Cube (FV 1)/Region 3/Jun/Cluster 1",
          "3D Cube (FV 1)/Region 4/Jun/Cluster 1",
          "3D Cube (FV 1)/Region 5/Jun/Cluster 1",
          "3D Cube (FV 1)/Region 1/Mar/Cluster 1",
          "3D Cube (FV 1)/Region 2/Mar/Cluster 1",
          "3D Cube (FV 1)/Region 3/Mar/Cluster 1",
          "3D Cube (FV 1)/Region 4/Mar/Cluster 1",
          "3D Cube (FV 1)/Region 5/Mar/Cluster 1",
          "3D Cube (FV 1)/Region 1/May/Cluster 1",
          "3D Cube (FV 1)/Region 2/May/Cluster 1",
          "3D Cube (FV 1)/Region 3/May/Cluster 1",
          "3D Cube (FV 1)/Region 4/May/Cluster 1",
          "3D Cube (FV 1)/Region 5/May/Cluster 1",
          "3D Cube (FV 1)/Region 1/Apr/Cluster 2",
          "3D Cube (FV 1)/Region 2/Apr/Cluster 2",
          "3D Cube (FV 1)/Region 3/Apr/Cluster 2",
          "3D Cube (FV 1)/Region 4/Apr/Cluster 2",
          "3D Cube (FV 1)/Region 5/Apr/Cluster 2",
          "3D Cube (FV 1)/Region 1/Feb/Cluster 2",
          "3D Cube (FV 1)/Region 2/Feb/Cluster 2",
          "3D Cube (FV 1)/Region 4/Feb/Cluster 2",
          "3D Cube (FV 1)/Region 5/Feb/Cluster 2",
          "3D Cube (FV 1)/Region 1/Jan/Cluster 2",
          "3D Cube (FV 1)/Region 2/Jan/Cluster 2",
          "3D Cube (FV 1)/Region 3/Jan/Cluster 2",
          "3D Cube (FV 1)/Region 4/Jan/Cluster 2",
          "3D Cube (FV 1)/Region 5/Jan/Cluster 2",
          "3D Cube (FV 1)/Region 1/Jun/Cluster 2",
          "3D Cube (FV 1)/Region 2/Jun/Cluster 2",
          "3D Cube (FV 1)/Region 3/Jun/Cluster 2",
          "3D Cube (FV 1)/Region 4/Jun/Cluster 2",
          "3D Cube (FV 1)/Region 5/Jun/Cluster 2",
          "3D Cube (FV 1)/Region 1/Mar/Cluster 2",
          "3D Cube (FV 1)/Region 2/Mar/Cluster 2",
          "3D Cube (FV 1)/Region 3/Mar/Cluster 2",
          "3D Cube (FV 1)/Region 4/Mar/Cluster 2",
          "3D Cube (FV 1)/Region 5/Mar/Cluster 2",
          "3D Cube (FV 1)/Region 1/May/Cluster 2",
          "3D Cube (FV 1)/Region 2/May/Cluster 2",
          "3D Cube (FV 1)/Region 3/May/Cluster 2",
          "3D Cube (FV 1)/Region 4/May/Cluster 2",
          "3D Cube (FV 1)/Region 5/May/Cluster 2",
          "3D Cube (FV 1)/Region 1/Apr/Cluster 3",
          "3D Cube (FV 1)/Region 2/Apr/Cluster 3",
          "3D Cube (FV 1)/Region 3/Apr/Cluster 3",
          "3D Cube (FV 1)/Region 4/Apr/Cluster 3",
          "3D Cube (FV 1)/Region 1/Feb/Cluster 3",
          "3D Cube (FV 1)/Region 2/Feb/Cluster 3",
          "3D Cube (FV 1)/Region 3/Feb/Cluster 3",
          "3D Cube (FV 1)/Region 4/Feb/Cluster 3",
          "3D Cube (FV 1)/Region 5/Feb/Cluster 3",
          "3D Cube (FV 1)/Region 1/Jan/Cluster 3",
          "3D Cube (FV 1)/Region 2/Jan/Cluster 3",
          "3D Cube (FV 1)/Region 3/Jan/Cluster 3",
          "3D Cube (FV 1)/Region 4/Jan/Cluster 3",
          "3D Cube (FV 1)/Region 5/Jan/Cluster 3",
          "3D Cube (FV 1)/Region 1/Jun/Cluster 3",
          "3D Cube (FV 1)/Region 2/Jun/Cluster 3",
          "3D Cube (FV 1)/Region 3/Jun/Cluster 3",
          "3D Cube (FV 1)/Region 4/Jun/Cluster 3",
          "3D Cube (FV 1)/Region 5/Jun/Cluster 3",
          "3D Cube (FV 1)/Region 1/Mar/Cluster 3",
          "3D Cube (FV 1)/Region 2/Mar/Cluster 3",
          "3D Cube (FV 1)/Region 3/Mar/Cluster 3",
          "3D Cube (FV 1)/Region 4/Mar/Cluster 3",
          "3D Cube (FV 1)/Region 5/Mar/Cluster 3",
          "3D Cube (FV 1)/Region 1/May/Cluster 3",
          "3D Cube (FV 1)/Region 2/May/Cluster 3",
          "3D Cube (FV 1)/Region 3/May/Cluster 3",
          "3D Cube (FV 1)/Region 4/May/Cluster 3",
          "3D Cube (FV 1)/Region 5/May/Cluster 3",
          "3D Cube (FV 1)/Region 1/Apr/Cluster 4",
          "3D Cube (FV 1)/Region 2/Apr/Cluster 4",
          "3D Cube (FV 1)/Region 5/Apr/Cluster 4",
          "3D Cube (FV 1)/Region 1/Feb/Cluster 4",
          "3D Cube (FV 1)/Region 2/Feb/Cluster 4",
          "3D Cube (FV 1)/Region 3/Feb/Cluster 4",
          "3D Cube (FV 1)/Region 4/Feb/Cluster 4",
          "3D Cube (FV 1)/Region 1/Jan/Cluster 4",
          "3D Cube (FV 1)/Region 3/Jan/Cluster 4",
          "3D Cube (FV 1)/Region 4/Jan/Cluster 4",
          "3D Cube (FV 1)/Region 5/Jan/Cluster 4",
          "3D Cube (FV 1)/Region 1/Jun/Cluster 4",
          "3D Cube (FV 1)/Region 3/Jun/Cluster 4",
          "3D Cube (FV 1)/Region 4/Jun/Cluster 4",
          "3D Cube (FV 1)/Region 1/Mar/Cluster 4",
          "3D Cube (FV 1)/Region 3/Mar/Cluster 4",
          "3D Cube (FV 1)/Region 4/Mar/Cluster 4",
          "3D Cube (FV 1)/Region 5/Mar/Cluster 4",
          "3D Cube (FV 1)/Region 1/May/Cluster 4",
          "3D Cube (FV 1)/Region 2/May/Cluster 4",
          "3D Cube (FV 1)/Region 3/May/Cluster 4",
          "3D Cube (FV 1)/Region 4/May/Cluster 4",
          "3D Cube (FV 1)/Region 5/May/Cluster 4",
          "3D Cube (FV 1)/Region 1/Apr/Cluster 5",
          "3D Cube (FV 1)/Region 2/Apr/Cluster 5",
          "3D Cube (FV 1)/Region 3/Apr/Cluster 5",
          "3D Cube (FV 1)/Region 5/Apr/Cluster 5",
          "3D Cube (FV 1)/Region 1/Jan/Cluster 5",
          "3D Cube (FV 1)/Region 2/Jan/Cluster 5",
          "3D Cube (FV 1)/Region 5/Jan/Cluster 5",
          "3D Cube (FV 1)/Region 4/Jun/Cluster 5",
          "3D Cube (FV 1)/Region 4/Mar/Cluster 5",
          "3D Cube (FV 1)/Region 5/Mar/Cluster 5",
          "3D Cube (FV 1)/Region 1/May/Cluster 5",
          "3D Cube (FV 1)/Region 2/May/Cluster 5",
          "3D Cube (FV 1)/Region 4/May/Cluster 5",
          "3D Cube (FV 1)/Region 5/May/Cluster 5",
          "3D Cube (FV 1)/Region 1/Apr",
          "3D Cube (FV 1)/Region 2/Apr",
          "3D Cube (FV 1)/Region 3/Apr",
          "3D Cube (FV 1)/Region 4/Apr",
          "3D Cube (FV 1)/Region 5/Apr",
          "3D Cube (FV 1)/Region 1/Feb",
          "3D Cube (FV 1)/Region 2/Feb",
          "3D Cube (FV 1)/Region 3/Feb",
          "3D Cube (FV 1)/Region 4/Feb",
          "3D Cube (FV 1)/Region 5/Feb",
          "3D Cube (FV 1)/Region 1/Jan",
          "3D Cube (FV 1)/Region 2/Jan",
          "3D Cube (FV 1)/Region 3/Jan",
          "3D Cube (FV 1)/Region 4/Jan",
          "3D Cube (FV 1)/Region 5/Jan",
          "3D Cube (FV 1)/Region 1/Jun",
          "3D Cube (FV 1)/Region 2/Jun",
          "3D Cube (FV 1)/Region 3/Jun",
          "3D Cube (FV 1)/Region 4/Jun",
          "3D Cube (FV 1)/Region 5/Jun",
          "3D Cube (FV 1)/Region 1/Mar",
          "3D Cube (FV 1)/Region 2/Mar",
          "3D Cube (FV 1)/Region 3/Mar",
          "3D Cube (FV 1)/Region 4/Mar",
          "3D Cube (FV 1)/Region 5/Mar",
          "3D Cube (FV 1)/Region 1/May",
          "3D Cube (FV 1)/Region 2/May",
          "3D Cube (FV 1)/Region 3/May",
          "3D Cube (FV 1)/Region 4/May",
          "3D Cube (FV 1)/Region 5/May",
          "3D Cube (FV 1)/Region 1",
          "3D Cube (FV 1)/Region 2",
          "3D Cube (FV 1)/Region 3",
          "3D Cube (FV 1)/Region 4",
          "3D Cube (FV 1)/Region 5",
          "3D Cube (FV 1)"
         ],
         "labels": [
          "Cluster 1",
          "Cluster 1",
          "Cluster 1",
          "Cluster 1",
          "Cluster 1",
          "Cluster 1",
          "Cluster 1",
          "Cluster 1",
          "Cluster 1",
          "Cluster 1",
          "Cluster 1",
          "Cluster 1",
          "Cluster 1",
          "Cluster 1",
          "Cluster 1",
          "Cluster 1",
          "Cluster 1",
          "Cluster 1",
          "Cluster 1",
          "Cluster 1",
          "Cluster 1",
          "Cluster 1",
          "Cluster 1",
          "Cluster 1",
          "Cluster 1",
          "Cluster 1",
          "Cluster 1",
          "Cluster 1",
          "Cluster 1",
          "Cluster 1",
          "Cluster 2",
          "Cluster 2",
          "Cluster 2",
          "Cluster 2",
          "Cluster 2",
          "Cluster 2",
          "Cluster 2",
          "Cluster 2",
          "Cluster 2",
          "Cluster 2",
          "Cluster 2",
          "Cluster 2",
          "Cluster 2",
          "Cluster 2",
          "Cluster 2",
          "Cluster 2",
          "Cluster 2",
          "Cluster 2",
          "Cluster 2",
          "Cluster 2",
          "Cluster 2",
          "Cluster 2",
          "Cluster 2",
          "Cluster 2",
          "Cluster 2",
          "Cluster 2",
          "Cluster 2",
          "Cluster 2",
          "Cluster 2",
          "Cluster 3",
          "Cluster 3",
          "Cluster 3",
          "Cluster 3",
          "Cluster 3",
          "Cluster 3",
          "Cluster 3",
          "Cluster 3",
          "Cluster 3",
          "Cluster 3",
          "Cluster 3",
          "Cluster 3",
          "Cluster 3",
          "Cluster 3",
          "Cluster 3",
          "Cluster 3",
          "Cluster 3",
          "Cluster 3",
          "Cluster 3",
          "Cluster 3",
          "Cluster 3",
          "Cluster 3",
          "Cluster 3",
          "Cluster 3",
          "Cluster 3",
          "Cluster 3",
          "Cluster 3",
          "Cluster 3",
          "Cluster 3",
          "Cluster 4",
          "Cluster 4",
          "Cluster 4",
          "Cluster 4",
          "Cluster 4",
          "Cluster 4",
          "Cluster 4",
          "Cluster 4",
          "Cluster 4",
          "Cluster 4",
          "Cluster 4",
          "Cluster 4",
          "Cluster 4",
          "Cluster 4",
          "Cluster 4",
          "Cluster 4",
          "Cluster 4",
          "Cluster 4",
          "Cluster 4",
          "Cluster 4",
          "Cluster 4",
          "Cluster 4",
          "Cluster 4",
          "Cluster 5",
          "Cluster 5",
          "Cluster 5",
          "Cluster 5",
          "Cluster 5",
          "Cluster 5",
          "Cluster 5",
          "Cluster 5",
          "Cluster 5",
          "Cluster 5",
          "Cluster 5",
          "Cluster 5",
          "Cluster 5",
          "Cluster 5",
          "Apr",
          "Apr",
          "Apr",
          "Apr",
          "Apr",
          "Feb",
          "Feb",
          "Feb",
          "Feb",
          "Feb",
          "Jan",
          "Jan",
          "Jan",
          "Jan",
          "Jan",
          "Jun",
          "Jun",
          "Jun",
          "Jun",
          "Jun",
          "Mar",
          "Mar",
          "Mar",
          "Mar",
          "Mar",
          "May",
          "May",
          "May",
          "May",
          "May",
          "Region 1",
          "Region 2",
          "Region 3",
          "Region 4",
          "Region 5",
          "3D Cube (FV 1)"
         ],
         "marker": {
          "coloraxis": "coloraxis",
          "colors": [
           6,
           11,
           10,
           7,
           2,
           11,
           5,
           5,
           15,
           8,
           11,
           9,
           3,
           7,
           2,
           15,
           8,
           7,
           9,
           6,
           17,
           6,
           8,
           5,
           6,
           12,
           13,
           3,
           8,
           11,
           3,
           4,
           5,
           4,
           4,
           6,
           5,
           6,
           10,
           11,
           8,
           1,
           3,
           2,
           6,
           1,
           7,
           6,
           6,
           8,
           6,
           3,
           5,
           2,
           10,
           7,
           2,
           8,
           5,
           5,
           4,
           4,
           2,
           6,
           3,
           2,
           5,
           5,
           4,
           2,
           4,
           5,
           2,
           5,
           4,
           1,
           4,
           1,
           10,
           3,
           3,
           5,
           2,
           3,
           4,
           4,
           1,
           1,
           1,
           3,
           1,
           4,
           1,
           1,
           1,
           2,
           2,
           2,
           1,
           4,
           3,
           1,
           4,
           1,
           2,
           2,
           1,
           2,
           1,
           2,
           3,
           2,
           2,
           1,
           1,
           1,
           2,
           1,
           1,
           1,
           1,
           2,
           1,
           3,
           1,
           4.411764705882353,
           6.916666666666667,
           7.1,
           5.3076923076923075,
           2.75,
           7.7407407407407405,
           4.285714285714286,
           3.75,
           10.62962962962963,
           8.217391304347826,
           9.068965517241379,
           7.285714285714286,
           3,
           5.117647058823529,
           1.75,
           10.066666666666666,
           6.230769230769231,
           6,
           6.428571428571429,
           5.615384615384615,
           12.025641025641026,
           5.4,
           5.533333333333333,
           4.444444444444445,
           3.769230769230769,
           9.214285714285714,
           8.851851851851851,
           3,
           6.454545454545454,
           7.476190476190476,
           9.270588235294118,
           6.842105263157895,
           5.222222222222222,
           6.779661016949152,
           5.8604651162790695,
           7.175746924428823
          ]
         },
         "name": "",
         "parents": [
          "3D Cube (FV 1)/Region 1/Apr",
          "3D Cube (FV 1)/Region 2/Apr",
          "3D Cube (FV 1)/Region 3/Apr",
          "3D Cube (FV 1)/Region 4/Apr",
          "3D Cube (FV 1)/Region 5/Apr",
          "3D Cube (FV 1)/Region 1/Feb",
          "3D Cube (FV 1)/Region 2/Feb",
          "3D Cube (FV 1)/Region 3/Feb",
          "3D Cube (FV 1)/Region 4/Feb",
          "3D Cube (FV 1)/Region 5/Feb",
          "3D Cube (FV 1)/Region 1/Jan",
          "3D Cube (FV 1)/Region 2/Jan",
          "3D Cube (FV 1)/Region 3/Jan",
          "3D Cube (FV 1)/Region 4/Jan",
          "3D Cube (FV 1)/Region 5/Jan",
          "3D Cube (FV 1)/Region 1/Jun",
          "3D Cube (FV 1)/Region 2/Jun",
          "3D Cube (FV 1)/Region 3/Jun",
          "3D Cube (FV 1)/Region 4/Jun",
          "3D Cube (FV 1)/Region 5/Jun",
          "3D Cube (FV 1)/Region 1/Mar",
          "3D Cube (FV 1)/Region 2/Mar",
          "3D Cube (FV 1)/Region 3/Mar",
          "3D Cube (FV 1)/Region 4/Mar",
          "3D Cube (FV 1)/Region 5/Mar",
          "3D Cube (FV 1)/Region 1/May",
          "3D Cube (FV 1)/Region 2/May",
          "3D Cube (FV 1)/Region 3/May",
          "3D Cube (FV 1)/Region 4/May",
          "3D Cube (FV 1)/Region 5/May",
          "3D Cube (FV 1)/Region 1/Apr",
          "3D Cube (FV 1)/Region 2/Apr",
          "3D Cube (FV 1)/Region 3/Apr",
          "3D Cube (FV 1)/Region 4/Apr",
          "3D Cube (FV 1)/Region 5/Apr",
          "3D Cube (FV 1)/Region 1/Feb",
          "3D Cube (FV 1)/Region 2/Feb",
          "3D Cube (FV 1)/Region 4/Feb",
          "3D Cube (FV 1)/Region 5/Feb",
          "3D Cube (FV 1)/Region 1/Jan",
          "3D Cube (FV 1)/Region 2/Jan",
          "3D Cube (FV 1)/Region 3/Jan",
          "3D Cube (FV 1)/Region 4/Jan",
          "3D Cube (FV 1)/Region 5/Jan",
          "3D Cube (FV 1)/Region 1/Jun",
          "3D Cube (FV 1)/Region 2/Jun",
          "3D Cube (FV 1)/Region 3/Jun",
          "3D Cube (FV 1)/Region 4/Jun",
          "3D Cube (FV 1)/Region 5/Jun",
          "3D Cube (FV 1)/Region 1/Mar",
          "3D Cube (FV 1)/Region 2/Mar",
          "3D Cube (FV 1)/Region 3/Mar",
          "3D Cube (FV 1)/Region 4/Mar",
          "3D Cube (FV 1)/Region 5/Mar",
          "3D Cube (FV 1)/Region 1/May",
          "3D Cube (FV 1)/Region 2/May",
          "3D Cube (FV 1)/Region 3/May",
          "3D Cube (FV 1)/Region 4/May",
          "3D Cube (FV 1)/Region 5/May",
          "3D Cube (FV 1)/Region 1/Apr",
          "3D Cube (FV 1)/Region 2/Apr",
          "3D Cube (FV 1)/Region 3/Apr",
          "3D Cube (FV 1)/Region 4/Apr",
          "3D Cube (FV 1)/Region 1/Feb",
          "3D Cube (FV 1)/Region 2/Feb",
          "3D Cube (FV 1)/Region 3/Feb",
          "3D Cube (FV 1)/Region 4/Feb",
          "3D Cube (FV 1)/Region 5/Feb",
          "3D Cube (FV 1)/Region 1/Jan",
          "3D Cube (FV 1)/Region 2/Jan",
          "3D Cube (FV 1)/Region 3/Jan",
          "3D Cube (FV 1)/Region 4/Jan",
          "3D Cube (FV 1)/Region 5/Jan",
          "3D Cube (FV 1)/Region 1/Jun",
          "3D Cube (FV 1)/Region 2/Jun",
          "3D Cube (FV 1)/Region 3/Jun",
          "3D Cube (FV 1)/Region 4/Jun",
          "3D Cube (FV 1)/Region 5/Jun",
          "3D Cube (FV 1)/Region 1/Mar",
          "3D Cube (FV 1)/Region 2/Mar",
          "3D Cube (FV 1)/Region 3/Mar",
          "3D Cube (FV 1)/Region 4/Mar",
          "3D Cube (FV 1)/Region 5/Mar",
          "3D Cube (FV 1)/Region 1/May",
          "3D Cube (FV 1)/Region 2/May",
          "3D Cube (FV 1)/Region 3/May",
          "3D Cube (FV 1)/Region 4/May",
          "3D Cube (FV 1)/Region 5/May",
          "3D Cube (FV 1)/Region 1/Apr",
          "3D Cube (FV 1)/Region 2/Apr",
          "3D Cube (FV 1)/Region 5/Apr",
          "3D Cube (FV 1)/Region 1/Feb",
          "3D Cube (FV 1)/Region 2/Feb",
          "3D Cube (FV 1)/Region 3/Feb",
          "3D Cube (FV 1)/Region 4/Feb",
          "3D Cube (FV 1)/Region 1/Jan",
          "3D Cube (FV 1)/Region 3/Jan",
          "3D Cube (FV 1)/Region 4/Jan",
          "3D Cube (FV 1)/Region 5/Jan",
          "3D Cube (FV 1)/Region 1/Jun",
          "3D Cube (FV 1)/Region 3/Jun",
          "3D Cube (FV 1)/Region 4/Jun",
          "3D Cube (FV 1)/Region 1/Mar",
          "3D Cube (FV 1)/Region 3/Mar",
          "3D Cube (FV 1)/Region 4/Mar",
          "3D Cube (FV 1)/Region 5/Mar",
          "3D Cube (FV 1)/Region 1/May",
          "3D Cube (FV 1)/Region 2/May",
          "3D Cube (FV 1)/Region 3/May",
          "3D Cube (FV 1)/Region 4/May",
          "3D Cube (FV 1)/Region 5/May",
          "3D Cube (FV 1)/Region 1/Apr",
          "3D Cube (FV 1)/Region 2/Apr",
          "3D Cube (FV 1)/Region 3/Apr",
          "3D Cube (FV 1)/Region 5/Apr",
          "3D Cube (FV 1)/Region 1/Jan",
          "3D Cube (FV 1)/Region 2/Jan",
          "3D Cube (FV 1)/Region 5/Jan",
          "3D Cube (FV 1)/Region 4/Jun",
          "3D Cube (FV 1)/Region 4/Mar",
          "3D Cube (FV 1)/Region 5/Mar",
          "3D Cube (FV 1)/Region 1/May",
          "3D Cube (FV 1)/Region 2/May",
          "3D Cube (FV 1)/Region 4/May",
          "3D Cube (FV 1)/Region 5/May",
          "3D Cube (FV 1)/Region 1",
          "3D Cube (FV 1)/Region 2",
          "3D Cube (FV 1)/Region 3",
          "3D Cube (FV 1)/Region 4",
          "3D Cube (FV 1)/Region 5",
          "3D Cube (FV 1)/Region 1",
          "3D Cube (FV 1)/Region 2",
          "3D Cube (FV 1)/Region 3",
          "3D Cube (FV 1)/Region 4",
          "3D Cube (FV 1)/Region 5",
          "3D Cube (FV 1)/Region 1",
          "3D Cube (FV 1)/Region 2",
          "3D Cube (FV 1)/Region 3",
          "3D Cube (FV 1)/Region 4",
          "3D Cube (FV 1)/Region 5",
          "3D Cube (FV 1)/Region 1",
          "3D Cube (FV 1)/Region 2",
          "3D Cube (FV 1)/Region 3",
          "3D Cube (FV 1)/Region 4",
          "3D Cube (FV 1)/Region 5",
          "3D Cube (FV 1)/Region 1",
          "3D Cube (FV 1)/Region 2",
          "3D Cube (FV 1)/Region 3",
          "3D Cube (FV 1)/Region 4",
          "3D Cube (FV 1)/Region 5",
          "3D Cube (FV 1)/Region 1",
          "3D Cube (FV 1)/Region 2",
          "3D Cube (FV 1)/Region 3",
          "3D Cube (FV 1)/Region 4",
          "3D Cube (FV 1)/Region 5",
          "3D Cube (FV 1)",
          "3D Cube (FV 1)",
          "3D Cube (FV 1)",
          "3D Cube (FV 1)",
          "3D Cube (FV 1)",
          ""
         ],
         "root": {
          "color": "lightgrey"
         },
         "textposition": "middle center",
         "texttemplate": "%{label} <br>Count %{value}",
         "type": "treemap",
         "values": [
          6,
          11,
          10,
          7,
          2,
          11,
          5,
          5,
          15,
          8,
          11,
          9,
          3,
          7,
          2,
          15,
          8,
          7,
          9,
          6,
          17,
          6,
          8,
          5,
          6,
          12,
          13,
          3,
          8,
          11,
          3,
          4,
          5,
          4,
          4,
          6,
          5,
          6,
          10,
          11,
          8,
          1,
          3,
          2,
          6,
          1,
          7,
          6,
          6,
          8,
          6,
          3,
          5,
          2,
          10,
          7,
          2,
          8,
          5,
          5,
          4,
          4,
          2,
          6,
          3,
          2,
          5,
          5,
          4,
          2,
          4,
          5,
          2,
          5,
          4,
          1,
          4,
          1,
          10,
          3,
          3,
          5,
          2,
          3,
          4,
          4,
          1,
          1,
          1,
          3,
          1,
          4,
          1,
          1,
          1,
          2,
          2,
          2,
          1,
          4,
          3,
          1,
          4,
          1,
          2,
          2,
          1,
          2,
          1,
          2,
          3,
          2,
          2,
          1,
          1,
          1,
          2,
          1,
          1,
          1,
          1,
          2,
          1,
          3,
          1,
          17,
          24,
          20,
          13,
          8,
          27,
          14,
          8,
          27,
          23,
          29,
          21,
          10,
          17,
          8,
          30,
          13,
          18,
          21,
          13,
          39,
          15,
          15,
          18,
          13,
          28,
          27,
          10,
          22,
          21,
          170,
          114,
          81,
          118,
          86,
          569
         ]
        }
       ],
       "layout": {
        "coloraxis": {
         "colorbar": {
          "title": {
           "text": "count"
          }
         },
         "colorscale": [
          [
           0,
           "rgb(247,251,255)"
          ],
          [
           0.125,
           "rgb(222,235,247)"
          ],
          [
           0.25,
           "rgb(198,219,239)"
          ],
          [
           0.375,
           "rgb(158,202,225)"
          ],
          [
           0.5,
           "rgb(107,174,214)"
          ],
          [
           0.625,
           "rgb(66,146,198)"
          ],
          [
           0.75,
           "rgb(33,113,181)"
          ],
          [
           0.875,
           "rgb(8,81,156)"
          ],
          [
           1,
           "rgb(8,48,107)"
          ]
         ]
        },
        "font": {
         "size": 24
        },
        "height": 1200,
        "legend": {
         "tracegroupgap": 0
        },
        "margin": {
         "b": 25,
         "l": 25,
         "r": 25,
         "t": 50
        },
        "template": {
         "data": {
          "bar": [
           {
            "error_x": {
             "color": "#2a3f5f"
            },
            "error_y": {
             "color": "#2a3f5f"
            },
            "marker": {
             "line": {
              "color": "#E5ECF6",
              "width": 0.5
             },
             "pattern": {
              "fillmode": "overlay",
              "size": 10,
              "solidity": 0.2
             }
            },
            "type": "bar"
           }
          ],
          "barpolar": [
           {
            "marker": {
             "line": {
              "color": "#E5ECF6",
              "width": 0.5
             },
             "pattern": {
              "fillmode": "overlay",
              "size": 10,
              "solidity": 0.2
             }
            },
            "type": "barpolar"
           }
          ],
          "carpet": [
           {
            "aaxis": {
             "endlinecolor": "#2a3f5f",
             "gridcolor": "white",
             "linecolor": "white",
             "minorgridcolor": "white",
             "startlinecolor": "#2a3f5f"
            },
            "baxis": {
             "endlinecolor": "#2a3f5f",
             "gridcolor": "white",
             "linecolor": "white",
             "minorgridcolor": "white",
             "startlinecolor": "#2a3f5f"
            },
            "type": "carpet"
           }
          ],
          "choropleth": [
           {
            "colorbar": {
             "outlinewidth": 0,
             "ticks": ""
            },
            "type": "choropleth"
           }
          ],
          "contour": [
           {
            "colorbar": {
             "outlinewidth": 0,
             "ticks": ""
            },
            "colorscale": [
             [
              0,
              "#0d0887"
             ],
             [
              0.1111111111111111,
              "#46039f"
             ],
             [
              0.2222222222222222,
              "#7201a8"
             ],
             [
              0.3333333333333333,
              "#9c179e"
             ],
             [
              0.4444444444444444,
              "#bd3786"
             ],
             [
              0.5555555555555556,
              "#d8576b"
             ],
             [
              0.6666666666666666,
              "#ed7953"
             ],
             [
              0.7777777777777778,
              "#fb9f3a"
             ],
             [
              0.8888888888888888,
              "#fdca26"
             ],
             [
              1,
              "#f0f921"
             ]
            ],
            "type": "contour"
           }
          ],
          "contourcarpet": [
           {
            "colorbar": {
             "outlinewidth": 0,
             "ticks": ""
            },
            "type": "contourcarpet"
           }
          ],
          "heatmap": [
           {
            "colorbar": {
             "outlinewidth": 0,
             "ticks": ""
            },
            "colorscale": [
             [
              0,
              "#0d0887"
             ],
             [
              0.1111111111111111,
              "#46039f"
             ],
             [
              0.2222222222222222,
              "#7201a8"
             ],
             [
              0.3333333333333333,
              "#9c179e"
             ],
             [
              0.4444444444444444,
              "#bd3786"
             ],
             [
              0.5555555555555556,
              "#d8576b"
             ],
             [
              0.6666666666666666,
              "#ed7953"
             ],
             [
              0.7777777777777778,
              "#fb9f3a"
             ],
             [
              0.8888888888888888,
              "#fdca26"
             ],
             [
              1,
              "#f0f921"
             ]
            ],
            "type": "heatmap"
           }
          ],
          "heatmapgl": [
           {
            "colorbar": {
             "outlinewidth": 0,
             "ticks": ""
            },
            "colorscale": [
             [
              0,
              "#0d0887"
             ],
             [
              0.1111111111111111,
              "#46039f"
             ],
             [
              0.2222222222222222,
              "#7201a8"
             ],
             [
              0.3333333333333333,
              "#9c179e"
             ],
             [
              0.4444444444444444,
              "#bd3786"
             ],
             [
              0.5555555555555556,
              "#d8576b"
             ],
             [
              0.6666666666666666,
              "#ed7953"
             ],
             [
              0.7777777777777778,
              "#fb9f3a"
             ],
             [
              0.8888888888888888,
              "#fdca26"
             ],
             [
              1,
              "#f0f921"
             ]
            ],
            "type": "heatmapgl"
           }
          ],
          "histogram": [
           {
            "marker": {
             "pattern": {
              "fillmode": "overlay",
              "size": 10,
              "solidity": 0.2
             }
            },
            "type": "histogram"
           }
          ],
          "histogram2d": [
           {
            "colorbar": {
             "outlinewidth": 0,
             "ticks": ""
            },
            "colorscale": [
             [
              0,
              "#0d0887"
             ],
             [
              0.1111111111111111,
              "#46039f"
             ],
             [
              0.2222222222222222,
              "#7201a8"
             ],
             [
              0.3333333333333333,
              "#9c179e"
             ],
             [
              0.4444444444444444,
              "#bd3786"
             ],
             [
              0.5555555555555556,
              "#d8576b"
             ],
             [
              0.6666666666666666,
              "#ed7953"
             ],
             [
              0.7777777777777778,
              "#fb9f3a"
             ],
             [
              0.8888888888888888,
              "#fdca26"
             ],
             [
              1,
              "#f0f921"
             ]
            ],
            "type": "histogram2d"
           }
          ],
          "histogram2dcontour": [
           {
            "colorbar": {
             "outlinewidth": 0,
             "ticks": ""
            },
            "colorscale": [
             [
              0,
              "#0d0887"
             ],
             [
              0.1111111111111111,
              "#46039f"
             ],
             [
              0.2222222222222222,
              "#7201a8"
             ],
             [
              0.3333333333333333,
              "#9c179e"
             ],
             [
              0.4444444444444444,
              "#bd3786"
             ],
             [
              0.5555555555555556,
              "#d8576b"
             ],
             [
              0.6666666666666666,
              "#ed7953"
             ],
             [
              0.7777777777777778,
              "#fb9f3a"
             ],
             [
              0.8888888888888888,
              "#fdca26"
             ],
             [
              1,
              "#f0f921"
             ]
            ],
            "type": "histogram2dcontour"
           }
          ],
          "mesh3d": [
           {
            "colorbar": {
             "outlinewidth": 0,
             "ticks": ""
            },
            "type": "mesh3d"
           }
          ],
          "parcoords": [
           {
            "line": {
             "colorbar": {
              "outlinewidth": 0,
              "ticks": ""
             }
            },
            "type": "parcoords"
           }
          ],
          "pie": [
           {
            "automargin": true,
            "type": "pie"
           }
          ],
          "scatter": [
           {
            "fillpattern": {
             "fillmode": "overlay",
             "size": 10,
             "solidity": 0.2
            },
            "type": "scatter"
           }
          ],
          "scatter3d": [
           {
            "line": {
             "colorbar": {
              "outlinewidth": 0,
              "ticks": ""
             }
            },
            "marker": {
             "colorbar": {
              "outlinewidth": 0,
              "ticks": ""
             }
            },
            "type": "scatter3d"
           }
          ],
          "scattercarpet": [
           {
            "marker": {
             "colorbar": {
              "outlinewidth": 0,
              "ticks": ""
             }
            },
            "type": "scattercarpet"
           }
          ],
          "scattergeo": [
           {
            "marker": {
             "colorbar": {
              "outlinewidth": 0,
              "ticks": ""
             }
            },
            "type": "scattergeo"
           }
          ],
          "scattergl": [
           {
            "marker": {
             "colorbar": {
              "outlinewidth": 0,
              "ticks": ""
             }
            },
            "type": "scattergl"
           }
          ],
          "scattermapbox": [
           {
            "marker": {
             "colorbar": {
              "outlinewidth": 0,
              "ticks": ""
             }
            },
            "type": "scattermapbox"
           }
          ],
          "scatterpolar": [
           {
            "marker": {
             "colorbar": {
              "outlinewidth": 0,
              "ticks": ""
             }
            },
            "type": "scatterpolar"
           }
          ],
          "scatterpolargl": [
           {
            "marker": {
             "colorbar": {
              "outlinewidth": 0,
              "ticks": ""
             }
            },
            "type": "scatterpolargl"
           }
          ],
          "scatterternary": [
           {
            "marker": {
             "colorbar": {
              "outlinewidth": 0,
              "ticks": ""
             }
            },
            "type": "scatterternary"
           }
          ],
          "surface": [
           {
            "colorbar": {
             "outlinewidth": 0,
             "ticks": ""
            },
            "colorscale": [
             [
              0,
              "#0d0887"
             ],
             [
              0.1111111111111111,
              "#46039f"
             ],
             [
              0.2222222222222222,
              "#7201a8"
             ],
             [
              0.3333333333333333,
              "#9c179e"
             ],
             [
              0.4444444444444444,
              "#bd3786"
             ],
             [
              0.5555555555555556,
              "#d8576b"
             ],
             [
              0.6666666666666666,
              "#ed7953"
             ],
             [
              0.7777777777777778,
              "#fb9f3a"
             ],
             [
              0.8888888888888888,
              "#fdca26"
             ],
             [
              1,
              "#f0f921"
             ]
            ],
            "type": "surface"
           }
          ],
          "table": [
           {
            "cells": {
             "fill": {
              "color": "#EBF0F8"
             },
             "line": {
              "color": "white"
             }
            },
            "header": {
             "fill": {
              "color": "#C8D4E3"
             },
             "line": {
              "color": "white"
             }
            },
            "type": "table"
           }
          ]
         },
         "layout": {
          "annotationdefaults": {
           "arrowcolor": "#2a3f5f",
           "arrowhead": 0,
           "arrowwidth": 1
          },
          "autotypenumbers": "strict",
          "coloraxis": {
           "colorbar": {
            "outlinewidth": 0,
            "ticks": ""
           }
          },
          "colorscale": {
           "diverging": [
            [
             0,
             "#8e0152"
            ],
            [
             0.1,
             "#c51b7d"
            ],
            [
             0.2,
             "#de77ae"
            ],
            [
             0.3,
             "#f1b6da"
            ],
            [
             0.4,
             "#fde0ef"
            ],
            [
             0.5,
             "#f7f7f7"
            ],
            [
             0.6,
             "#e6f5d0"
            ],
            [
             0.7,
             "#b8e186"
            ],
            [
             0.8,
             "#7fbc41"
            ],
            [
             0.9,
             "#4d9221"
            ],
            [
             1,
             "#276419"
            ]
           ],
           "sequential": [
            [
             0,
             "#0d0887"
            ],
            [
             0.1111111111111111,
             "#46039f"
            ],
            [
             0.2222222222222222,
             "#7201a8"
            ],
            [
             0.3333333333333333,
             "#9c179e"
            ],
            [
             0.4444444444444444,
             "#bd3786"
            ],
            [
             0.5555555555555556,
             "#d8576b"
            ],
            [
             0.6666666666666666,
             "#ed7953"
            ],
            [
             0.7777777777777778,
             "#fb9f3a"
            ],
            [
             0.8888888888888888,
             "#fdca26"
            ],
            [
             1,
             "#f0f921"
            ]
           ],
           "sequentialminus": [
            [
             0,
             "#0d0887"
            ],
            [
             0.1111111111111111,
             "#46039f"
            ],
            [
             0.2222222222222222,
             "#7201a8"
            ],
            [
             0.3333333333333333,
             "#9c179e"
            ],
            [
             0.4444444444444444,
             "#bd3786"
            ],
            [
             0.5555555555555556,
             "#d8576b"
            ],
            [
             0.6666666666666666,
             "#ed7953"
            ],
            [
             0.7777777777777778,
             "#fb9f3a"
            ],
            [
             0.8888888888888888,
             "#fdca26"
            ],
            [
             1,
             "#f0f921"
            ]
           ]
          },
          "colorway": [
           "#636efa",
           "#EF553B",
           "#00cc96",
           "#ab63fa",
           "#FFA15A",
           "#19d3f3",
           "#FF6692",
           "#B6E880",
           "#FF97FF",
           "#FECB52"
          ],
          "font": {
           "color": "#2a3f5f"
          },
          "geo": {
           "bgcolor": "white",
           "lakecolor": "white",
           "landcolor": "#E5ECF6",
           "showlakes": true,
           "showland": true,
           "subunitcolor": "white"
          },
          "hoverlabel": {
           "align": "left"
          },
          "hovermode": "closest",
          "mapbox": {
           "style": "light"
          },
          "paper_bgcolor": "white",
          "plot_bgcolor": "#E5ECF6",
          "polar": {
           "angularaxis": {
            "gridcolor": "white",
            "linecolor": "white",
            "ticks": ""
           },
           "bgcolor": "#E5ECF6",
           "radialaxis": {
            "gridcolor": "white",
            "linecolor": "white",
            "ticks": ""
           }
          },
          "scene": {
           "xaxis": {
            "backgroundcolor": "#E5ECF6",
            "gridcolor": "white",
            "gridwidth": 2,
            "linecolor": "white",
            "showbackground": true,
            "ticks": "",
            "zerolinecolor": "white"
           },
           "yaxis": {
            "backgroundcolor": "#E5ECF6",
            "gridcolor": "white",
            "gridwidth": 2,
            "linecolor": "white",
            "showbackground": true,
            "ticks": "",
            "zerolinecolor": "white"
           },
           "zaxis": {
            "backgroundcolor": "#E5ECF6",
            "gridcolor": "white",
            "gridwidth": 2,
            "linecolor": "white",
            "showbackground": true,
            "ticks": "",
            "zerolinecolor": "white"
           }
          },
          "shapedefaults": {
           "line": {
            "color": "#2a3f5f"
           }
          },
          "ternary": {
           "aaxis": {
            "gridcolor": "white",
            "linecolor": "white",
            "ticks": ""
           },
           "baxis": {
            "gridcolor": "white",
            "linecolor": "white",
            "ticks": ""
           },
           "bgcolor": "#E5ECF6",
           "caxis": {
            "gridcolor": "white",
            "linecolor": "white",
            "ticks": ""
           }
          },
          "title": {
           "x": 0.05
          },
          "xaxis": {
           "automargin": true,
           "gridcolor": "white",
           "linecolor": "white",
           "ticks": "",
           "title": {
            "standoff": 15
           },
           "zerolinecolor": "white",
           "zerolinewidth": 2
          },
          "yaxis": {
           "automargin": true,
           "gridcolor": "white",
           "linecolor": "white",
           "ticks": "",
           "title": {
            "standoff": 15
           },
           "zerolinecolor": "white",
           "zerolinewidth": 2
          }
         }
        },
        "width": 800
       }
      }
     },
     "metadata": {},
     "output_type": "display_data"
    }
   ],
   "source": [
    "fig = px.treemap(\n",
    "    df, \n",
    "    path=[px.Constant(\"3D Cube (FV 1)\")] + dims, \n",
    "    values='count', \n",
    "    color='count',\n",
    "    color_continuous_scale='Blues',\n",
    ")\n",
    "\n",
    "fig.update_traces(\n",
    "    texttemplate='%{label} <br>Count %{value}',  # Display label and value\n",
    "    textposition='middle center',\n",
    ")\n",
    "\n",
    "fig.update_layout(\n",
    "    width=800,\n",
    "    height=1200,\n",
    "    margin=dict(t=50, l=25, r=25, b=25),  # Adjust margins\n",
    "    font=dict(size=24)  # Adjust font size\n",
    ")\n",
    "\n",
    "fig.update_traces(root_color=\"lightgrey\")\n",
    "fig.update_layout(margin = dict(t=50, l=25, r=25, b=25))\n",
    "fig.show()"
   ]
  },
  {
   "cell_type": "code",
   "execution_count": null,
   "metadata": {},
   "outputs": [],
   "source": []
  }
 ],
 "metadata": {
  "kernelspec": {
   "display_name": "Python 3",
   "language": "python",
   "name": "python3"
  },
  "language_info": {
   "codemirror_mode": {
    "name": "ipython",
    "version": 3
   },
   "file_extension": ".py",
   "mimetype": "text/x-python",
   "name": "python",
   "nbconvert_exporter": "python",
   "pygments_lexer": "ipython3",
   "version": "3.10.12"
  }
 },
 "nbformat": 4,
 "nbformat_minor": 2
}
